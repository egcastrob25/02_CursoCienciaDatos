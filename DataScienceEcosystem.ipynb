{
 "cells": [
  {
   "cell_type": "markdown",
   "id": "6f37378b",
   "metadata": {},
   "source": [
    "# Data Science Tools and Ecosystem"
   ]
  },
  {
   "cell_type": "markdown",
   "id": "3ff23ee5",
   "metadata": {},
   "source": [
    "#### En este cuaderno, se resumen las herramientas y ecosistemas de ciencia de datos."
   ]
  },
  {
   "cell_type": "markdown",
   "id": "caebcd54",
   "metadata": {},
   "source": [
    "Algunos de los lenguajes populares que utilizan los científicos de datos son:\n",
    "   1. Python\n",
    "   2. SQL\n",
    "   3. R"
   ]
  },
  {
   "cell_type": "markdown",
   "id": "5dc0cc54",
   "metadata": {},
   "source": [
    "**Objetivos:**"
   ]
  },
  {
   "cell_type": "markdown",
   "id": "9f4a8548",
   "metadata": {},
   "source": [
    "\n",
    "- Listar lenguajes populares para Ciencia de Datos\n",
    "- Crear tablas \n",
    "- Crear codigos para realizar operaciones como sumas o divisiones"
   ]
  },
  {
   "cell_type": "markdown",
   "id": "7f9b6216",
   "metadata": {},
   "source": [
    "Algunas de las bibliotecas comúnmente utilizadas por los científicos de datos incluyen:\n",
    "1. NumPy: Utilizada para cálculos numéricos y manipulación de datos multidimensionales. \n",
    "2. Pandas: Ideal para el análisis y manipulación de datos etiquetados y relacionales. \n",
    "3. Matplotlib: Para la visualización de datos(gráficos y gráficos interactivos). \n",
    "4. Scikit-learn: Para el aprendizaje automático, incluyendo técnicas de clasificación y regresión. \n",
    "5. SciPy: Para computación científica, incluyendo álgebra lineal y optimización. \n",
    "\n"
   ]
  },
  {
   "cell_type": "markdown",
   "id": "24a2c110",
   "metadata": {},
   "source": [
    "| **Herramientas de Ciencia de Datos** |\n",
    "|--------------------------------------|\n",
    "| Jupyter Notebook                     |\n",
    "| RStudio                              |\n",
    "| Apache Zeppelin                      |"
   ]
  },
  {
   "cell_type": "markdown",
   "id": "ad318e37",
   "metadata": {},
   "source": [
    "### A continuación, se presentan algunos ejemplos de evaluación de expresiones aritméticas en Python."
   ]
  },
  {
   "cell_type": "markdown",
   "id": "c785385b",
   "metadata": {},
   "source": [
    "Esta es una expresión aritmética simple para multiplicar y luego sumar enteros\n"
   ]
  },
  {
   "cell_type": "code",
   "execution_count": 15,
   "id": "fae4ae1c",
   "metadata": {},
   "outputs": [
    {
     "data": {
      "text/plain": [
       "17"
      ]
     },
     "execution_count": 15,
     "metadata": {},
     "output_type": "execute_result"
    }
   ],
   "source": [
    "(3*4)+5"
   ]
  },
  {
   "cell_type": "markdown",
   "id": "eaca9aab",
   "metadata": {},
   "source": [
    "Esto convertirá 200 minutos a horas dividiendo por 60"
   ]
  },
  {
   "cell_type": "code",
   "execution_count": 16,
   "id": "9da91f33",
   "metadata": {},
   "outputs": [
    {
     "data": {
      "text/plain": [
       "3.3333333333333335"
      ]
     },
     "execution_count": 16,
     "metadata": {},
     "output_type": "execute_result"
    }
   ],
   "source": [
    "(200/60)"
   ]
  },
  {
   "cell_type": "markdown",
   "id": "b1838706",
   "metadata": {},
   "source": [
    "## Autor\n",
    "Erika Castro Beltrán"
   ]
  }
 ],
 "metadata": {
  "kernelspec": {
   "display_name": "Python 3 (ipykernel)",
   "language": "python",
   "name": "python3"
  },
  "language_info": {
   "codemirror_mode": {
    "name": "ipython",
    "version": 3
   },
   "file_extension": ".py",
   "mimetype": "text/x-python",
   "name": "python",
   "nbconvert_exporter": "python",
   "pygments_lexer": "ipython3",
   "version": "3.9.13"
  }
 },
 "nbformat": 4,
 "nbformat_minor": 5
}
